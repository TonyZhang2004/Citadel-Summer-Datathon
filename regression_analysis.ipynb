{
 "cells": [
  {
   "cell_type": "code",
   "execution_count": 1,
   "metadata": {},
   "outputs": [],
   "source": [
    "import numpy as np\n",
    "import pandas as pd\n",
    "import statsmodels.api as sm\n",
    "import statsmodels.formula.api as smf"
   ]
  },
  {
   "cell_type": "code",
   "execution_count": 2,
   "metadata": {},
   "outputs": [
    {
     "name": "stderr",
     "output_type": "stream",
     "text": [
      "/var/folders/96/s7zm7_qd5tl766bx8kyp31gm0000gn/T/ipykernel_68267/175944214.py:3: DtypeWarning: Columns (18,19,21,22) have mixed types. Specify dtype option on import or set low_memory=False.\n",
      "  nutrition_raw = pd.read_csv('Datathon_Data/Nutrition_Physical_Activity_and_Obesity_Data.csv')\n"
     ]
    },
    {
     "data": {
      "text/plain": [
       "Index(['YearStart', 'YearEnd', 'LocationAbbr', 'LocationDesc', 'Datasource',\n",
       "       'Class', 'Topic', 'Question', 'Data_Value_Unit', 'Data_Value_Type',\n",
       "       'Data_Value', 'Data_Value_Alt', 'Data_Value_Footnote_Symbol',\n",
       "       'Data_Value_Footnote', 'Low_Confidence_Limit', 'High_Confidence_Limit',\n",
       "       'Sample_Size', 'Total', 'Age(years)', 'Education', 'Gender', 'Grade',\n",
       "       'Income', 'Race/Ethnicity', 'GeoLocation', 'ClassID', 'TopicID',\n",
       "       'QuestionID', 'DataValueTypeID', 'LocationID',\n",
       "       'StratificationCategory1', 'Stratification1',\n",
       "       'StratificationCategoryId1', 'StratificationID1'],\n",
       "      dtype='object')"
      ]
     },
     "execution_count": 2,
     "metadata": {},
     "output_type": "execute_result"
    }
   ],
   "source": [
    "acs_dataframe_raw = pd.read_csv('Datathon_Data/acs_5yr_est_selected_economic_characteristics_2010-2022.csv')\n",
    "meat_production_raw = pd.read_csv('Datathon_Data/Meat_Stats_Meat_Production.csv')\n",
    "nutrition_raw = pd.read_csv('Datathon_Data/Nutrition_Physical_Activity_and_Obesity_Data.csv')\n",
    "acs_dataframe = acs_dataframe_raw.copy()\n",
    "meat_production = meat_production_raw.copy()\n",
    "nutrition = nutrition_raw.copy()\n",
    "meat_production['Production'] = meat_production['Production'].str.replace(\",\",\"\").astype(float)\n",
    "nutrition.columns"
   ]
  },
  {
   "cell_type": "code",
   "execution_count": 3,
   "metadata": {},
   "outputs": [
    {
     "data": {
      "text/html": [
       "<div>\n",
       "<style scoped>\n",
       "    .dataframe tbody tr th:only-of-type {\n",
       "        vertical-align: middle;\n",
       "    }\n",
       "\n",
       "    .dataframe tbody tr th {\n",
       "        vertical-align: top;\n",
       "    }\n",
       "\n",
       "    .dataframe thead th {\n",
       "        text-align: right;\n",
       "    }\n",
       "</style>\n",
       "<table border=\"1\" class=\"dataframe\">\n",
       "  <thead>\n",
       "    <tr style=\"text-align: right;\">\n",
       "      <th></th>\n",
       "      <th>Label (Grouping)</th>\n",
       "      <th>Category</th>\n",
       "      <th>State</th>\n",
       "      <th>Estimate</th>\n",
       "      <th>Margin of Error</th>\n",
       "      <th>Percent</th>\n",
       "      <th>Percent Margin of Error</th>\n",
       "      <th>Year</th>\n",
       "    </tr>\n",
       "  </thead>\n",
       "  <tbody>\n",
       "    <tr>\n",
       "      <th>15184</th>\n",
       "      <td>With public coverage</td>\n",
       "      <td>HEALTH INSURANCE COVERAGE</td>\n",
       "      <td>Alabama</td>\n",
       "      <td>1568842.0</td>\n",
       "      <td>±7,998</td>\n",
       "      <td>33.3%</td>\n",
       "      <td>±0.2</td>\n",
       "      <td>2013</td>\n",
       "    </tr>\n",
       "    <tr>\n",
       "      <th>15193</th>\n",
       "      <td>With public coverage</td>\n",
       "      <td>HEALTH INSURANCE COVERAGE</td>\n",
       "      <td>Alabama</td>\n",
       "      <td>99342.0</td>\n",
       "      <td>±2,608</td>\n",
       "      <td>5.2%</td>\n",
       "      <td>±0.1</td>\n",
       "      <td>2013</td>\n",
       "    </tr>\n",
       "    <tr>\n",
       "      <th>15198</th>\n",
       "      <td>With public coverage</td>\n",
       "      <td>HEALTH INSURANCE COVERAGE</td>\n",
       "      <td>Alabama</td>\n",
       "      <td>36190.0</td>\n",
       "      <td>±1,467</td>\n",
       "      <td>16.0%</td>\n",
       "      <td>±0.6</td>\n",
       "      <td>2013</td>\n",
       "    </tr>\n",
       "    <tr>\n",
       "      <th>15203</th>\n",
       "      <td>With public coverage</td>\n",
       "      <td>HEALTH INSURANCE COVERAGE</td>\n",
       "      <td>Alabama</td>\n",
       "      <td>316315.0</td>\n",
       "      <td>±3,991</td>\n",
       "      <td>38.8%</td>\n",
       "      <td>±0.4</td>\n",
       "      <td>2013</td>\n",
       "    </tr>\n",
       "    <tr>\n",
       "      <th>15329</th>\n",
       "      <td>With public coverage</td>\n",
       "      <td>HEALTH INSURANCE COVERAGE</td>\n",
       "      <td>Alaska</td>\n",
       "      <td>173846.0</td>\n",
       "      <td>±2,857</td>\n",
       "      <td>24.9%</td>\n",
       "      <td>±0.4</td>\n",
       "      <td>2013</td>\n",
       "    </tr>\n",
       "    <tr>\n",
       "      <th>15338</th>\n",
       "      <td>With public coverage</td>\n",
       "      <td>HEALTH INSURANCE COVERAGE</td>\n",
       "      <td>Alaska</td>\n",
       "      <td>24642.0</td>\n",
       "      <td>±1,086</td>\n",
       "      <td>7.6%</td>\n",
       "      <td>±0.3</td>\n",
       "      <td>2013</td>\n",
       "    </tr>\n",
       "    <tr>\n",
       "      <th>15343</th>\n",
       "      <td>With public coverage</td>\n",
       "      <td>HEALTH INSURANCE COVERAGE</td>\n",
       "      <td>Alaska</td>\n",
       "      <td>6095.0</td>\n",
       "      <td>±464</td>\n",
       "      <td>19.8%</td>\n",
       "      <td>±1.3</td>\n",
       "      <td>2013</td>\n",
       "    </tr>\n",
       "    <tr>\n",
       "      <th>15348</th>\n",
       "      <td>With public coverage</td>\n",
       "      <td>HEALTH INSURANCE COVERAGE</td>\n",
       "      <td>Alaska</td>\n",
       "      <td>26710.0</td>\n",
       "      <td>±1,035</td>\n",
       "      <td>27.9%</td>\n",
       "      <td>±0.9</td>\n",
       "      <td>2013</td>\n",
       "    </tr>\n",
       "    <tr>\n",
       "      <th>15474</th>\n",
       "      <td>With public coverage</td>\n",
       "      <td>HEALTH INSURANCE COVERAGE</td>\n",
       "      <td>Arizona</td>\n",
       "      <td>2163069.0</td>\n",
       "      <td>±12,230</td>\n",
       "      <td>33.9%</td>\n",
       "      <td>±0.2</td>\n",
       "      <td>2013</td>\n",
       "    </tr>\n",
       "    <tr>\n",
       "      <th>15483</th>\n",
       "      <td>With public coverage</td>\n",
       "      <td>HEALTH INSURANCE COVERAGE</td>\n",
       "      <td>Arizona</td>\n",
       "      <td>237598.0</td>\n",
       "      <td>±3,588</td>\n",
       "      <td>9.2%</td>\n",
       "      <td>±0.1</td>\n",
       "      <td>2013</td>\n",
       "    </tr>\n",
       "  </tbody>\n",
       "</table>\n",
       "</div>"
      ],
      "text/plain": [
       "           Label (Grouping)                   Category    State   Estimate  \\\n",
       "15184  With public coverage  HEALTH INSURANCE COVERAGE  Alabama  1568842.0   \n",
       "15193  With public coverage  HEALTH INSURANCE COVERAGE  Alabama    99342.0   \n",
       "15198  With public coverage  HEALTH INSURANCE COVERAGE  Alabama    36190.0   \n",
       "15203  With public coverage  HEALTH INSURANCE COVERAGE  Alabama   316315.0   \n",
       "15329  With public coverage  HEALTH INSURANCE COVERAGE   Alaska   173846.0   \n",
       "15338  With public coverage  HEALTH INSURANCE COVERAGE   Alaska    24642.0   \n",
       "15343  With public coverage  HEALTH INSURANCE COVERAGE   Alaska     6095.0   \n",
       "15348  With public coverage  HEALTH INSURANCE COVERAGE   Alaska    26710.0   \n",
       "15474  With public coverage  HEALTH INSURANCE COVERAGE  Arizona  2163069.0   \n",
       "15483  With public coverage  HEALTH INSURANCE COVERAGE  Arizona   237598.0   \n",
       "\n",
       "      Margin of Error Percent Percent Margin of Error  Year  \n",
       "15184          ±7,998   33.3%                    ±0.2  2013  \n",
       "15193          ±2,608    5.2%                    ±0.1  2013  \n",
       "15198          ±1,467   16.0%                    ±0.6  2013  \n",
       "15203          ±3,991   38.8%                    ±0.4  2013  \n",
       "15329          ±2,857   24.9%                    ±0.4  2013  \n",
       "15338          ±1,086    7.6%                    ±0.3  2013  \n",
       "15343            ±464   19.8%                    ±1.3  2013  \n",
       "15348          ±1,035   27.9%                    ±0.9  2013  \n",
       "15474         ±12,230   33.9%                    ±0.2  2013  \n",
       "15483          ±3,588    9.2%                    ±0.1  2013  "
      ]
     },
     "execution_count": 3,
     "metadata": {},
     "output_type": "execute_result"
    }
   ],
   "source": [
    "acs_dataframe['Label (Grouping)'] = acs_dataframe['Label (Grouping)'].str.strip()\n",
    "employed = acs_dataframe[(acs_dataframe['Label (Grouping)'] == 'Employed')].copy()\n",
    "employed['Estimate'] = employed['Estimate'].str.replace(\",\", \"\").astype(int)\n",
    "public_coverage = acs_dataframe[(acs_dataframe['Label (Grouping)'] == 'With public coverage') \n",
    "                                & (acs_dataframe['Estimate'] != '(X)')].copy()\n",
    "public_coverage['Estimate'] = public_coverage['Estimate'].str.replace(\",\", \"\").astype(float)\n",
    "\n",
    "public_coverage.head(10)"
   ]
  },
  {
   "cell_type": "code",
   "execution_count": 4,
   "metadata": {},
   "outputs": [
    {
     "name": "stderr",
     "output_type": "stream",
     "text": [
      "/var/folders/96/s7zm7_qd5tl766bx8kyp31gm0000gn/T/ipykernel_68267/1339112690.py:8: FutureWarning: The behavior of DataFrame concatenation with empty or all-NA entries is deprecated. In a future version, this will no longer exclude empty or all-NA columns when determining the result dtypes. To retain the old behavior, exclude the relevant entries before the concat operation.\n",
      "  yearly_df = pd.concat([yearly_df, pd.DataFrame({'Year': [year],\n"
     ]
    },
    {
     "name": "stdout",
     "output_type": "stream",
     "text": [
      "Year                object\n",
      "Employed             int64\n",
      "Meat_Production    float64\n",
      "Public_Coverage    float64\n",
      "Obesity            float64\n",
      "dtype: object\n",
      "                     Year  Employed  Meat_Production  Public_Coverage  \\\n",
      "Year             1.000000  0.991997         0.957357         0.982592   \n",
      "Employed         0.991997  1.000000         0.981279         0.981897   \n",
      "Meat_Production  0.957357  0.981279         1.000000         0.943883   \n",
      "Public_Coverage  0.982592  0.981897         0.943883         1.000000   \n",
      "Obesity          0.990776  0.981622         0.949928         0.962757   \n",
      "\n",
      "                  Obesity  \n",
      "Year             0.990776  \n",
      "Employed         0.981622  \n",
      "Meat_Production  0.949928  \n",
      "Public_Coverage  0.962757  \n",
      "Obesity          1.000000  \n"
     ]
    }
   ],
   "source": [
    "yearly_df = pd.DataFrame(columns=['Year', 'Employed', 'Meat_Production', 'Public_Coverage', 'Obesity'])\n",
    "for year in range(2012, 2023):\n",
    "    total_employed = (employed[employed['Year'] == year]['Estimate'].sum())\n",
    "    total_meat_production = meat_production[meat_production['Year'] == year]['Production'].sum()\n",
    "    total_public_coverage = public_coverage[public_coverage['Year'] == year]['Estimate'].sum()\n",
    "    mean_obesity_us = nutrition[(nutrition['YearEnd'] == year) & \n",
    "                                (nutrition['Question'] == 'Percent of adults aged 18 years and older who have obesity')]['Data_Value'].mean()\n",
    "    yearly_df = pd.concat([yearly_df, pd.DataFrame({'Year': [year], \n",
    "                                                    'Employed': [total_employed], \n",
    "                                                    'Meat_Production': [total_meat_production],\n",
    "                                                    'Public_Coverage': [total_public_coverage],\n",
    "                                                    'Obesity' : mean_obesity_us})], ignore_index=True)\n",
    "    \n",
    "yearly_df['Employed'] = pd.to_numeric(yearly_df['Employed'], errors=\"coerce\")\n",
    "print(yearly_df.dtypes)\n",
    "corr_mat = yearly_df.corr()\n",
    "print(corr_mat)\n"
   ]
  },
  {
   "cell_type": "markdown",
   "metadata": {},
   "source": [
    "### Now we aim to build a robust regression model that could be potentially used to predict future obesity rate in the United States."
   ]
  },
  {
   "cell_type": "code",
   "execution_count": 5,
   "metadata": {},
   "outputs": [
    {
     "name": "stdout",
     "output_type": "stream",
     "text": [
      "                                 OLS Regression Results                                \n",
      "=======================================================================================\n",
      "Dep. Variable:                Obesity   R-squared (uncentered):                   1.000\n",
      "Model:                            OLS   Adj. R-squared (uncentered):              1.000\n",
      "Method:                 Least Squares   F-statistic:                          1.309e+04\n",
      "Date:                Wed, 31 Jul 2024   Prob (F-statistic):                    4.24e-15\n",
      "Time:                        13:23:14   Log-Likelihood:                         -6.6719\n",
      "No. Observations:                  11   AIC:                                      19.34\n",
      "Df Residuals:                       8   BIC:                                      20.54\n",
      "Df Model:                           3                                                  \n",
      "Covariance Type:            nonrobust                                                  \n",
      "===================================================================================\n",
      "                      coef    std err          t      P>|t|      [0.025      0.975]\n",
      "-----------------------------------------------------------------------------------\n",
      "Employed           6.1e-08   3.61e-08      1.688      0.130   -2.23e-08    1.44e-07\n",
      "Meat_Production  3.868e-05   6.95e-05      0.557      0.593      -0.000       0.000\n",
      "Public_Coverage  8.268e-08   3.07e-08      2.692      0.027    1.19e-08    1.54e-07\n",
      "==============================================================================\n",
      "Omnibus:                        2.045   Durbin-Watson:                   1.135\n",
      "Prob(Omnibus):                  0.360   Jarque-Bera (JB):                1.301\n",
      "Skew:                           0.622   Prob(JB):                        0.522\n",
      "Kurtosis:                       1.864   Cond. No.                     1.17e+05\n",
      "==============================================================================\n",
      "\n",
      "Notes:\n",
      "[1] R² is computed without centering (uncentered) since the model does not contain a constant.\n",
      "[2] Standard Errors assume that the covariance matrix of the errors is correctly specified.\n",
      "[3] The condition number is large, 1.17e+05. This might indicate that there are\n",
      "strong multicollinearity or other numerical problems.\n"
     ]
    },
    {
     "name": "stderr",
     "output_type": "stream",
     "text": [
      "/Users/tony/myenv/lib/python3.12/site-packages/scipy/stats/_axis_nan_policy.py:418: UserWarning: `kurtosistest` p-value may be inaccurate with fewer than 20 observations; only n=11 observations were given.\n",
      "  return hypotest_fun_in(*args, **kwds)\n"
     ]
    }
   ],
   "source": [
    "yearly_df = sm.add_constant(yearly_df)\n",
    "X = yearly_df[['Employed', 'Meat_Production', 'Public_Coverage']]\n",
    "Y = yearly_df['Obesity']\n",
    "model = sm.OLS(Y, X).fit()\n",
    "print(model.summary())"
   ]
  }
 ],
 "metadata": {
  "kernelspec": {
   "display_name": "myenv",
   "language": "python",
   "name": "python3"
  },
  "language_info": {
   "codemirror_mode": {
    "name": "ipython",
    "version": 3
   },
   "file_extension": ".py",
   "mimetype": "text/x-python",
   "name": "python",
   "nbconvert_exporter": "python",
   "pygments_lexer": "ipython3",
   "version": "3.12.4"
  }
 },
 "nbformat": 4,
 "nbformat_minor": 2
}
