{
 "cells": [
  {
   "cell_type": "code",
   "execution_count": 42,
   "metadata": {},
   "outputs": [],
   "source": [
    "import pandas as pd\n",
    "import numpy as np\n",
    "import matplotlib.pyplot as plt\n",
    "import glob"
   ]
  },
  {
   "cell_type": "code",
   "execution_count": 41,
   "metadata": {},
   "outputs": [],
   "source": [
    "dir = '../unemployment'\n",
    "\n",
    "\n",
    "def process_unemployment(df, name):\n",
    "    df = pd.DataFrame(df.stack())\n",
    "    df.reset_index(inplace=True)\n",
    "    df.columns = ['year', 'month', 'unemployment']\n",
    "    df['category'] = name\n",
    "    return df"
   ]
  },
  {
   "cell_type": "code",
   "execution_count": 46,
   "metadata": {},
   "outputs": [],
   "source": [
    "months = [i for i in range(1, 13)]\n",
    "\n",
    "total = []\n",
    "for file in glob.glob(dir + '/*.xlsx'):\n",
    "    sector = pd.read_excel(file, names=['year'] + months).iloc[-11:].set_index('year')\n",
    "    total.append(process_unemployment(sector, file.split('/')[-1].split('.')[0]))\n",
    "\n",
    "total = pd.concat(total)\n",
    "\n",
    "#df = pd.read_excel(f'{dir}/aggregate.xlsx', names=['year'] + months).iloc[-11:].set_index('year')"
   ]
  },
  {
   "cell_type": "code",
   "execution_count": 49,
   "metadata": {},
   "outputs": [],
   "source": [
    "total.to_csv('../variables_of_interest/unemployment_by_sector.csv', index=False)"
   ]
  },
  {
   "cell_type": "code",
   "execution_count": null,
   "metadata": {},
   "outputs": [],
   "source": []
  }
 ],
 "metadata": {
  "kernelspec": {
   "display_name": "Python 3",
   "language": "python",
   "name": "python3"
  },
  "language_info": {
   "codemirror_mode": {
    "name": "ipython",
    "version": 3
   },
   "file_extension": ".py",
   "mimetype": "text/x-python",
   "name": "python",
   "nbconvert_exporter": "python",
   "pygments_lexer": "ipython3",
   "version": "3.11.0"
  }
 },
 "nbformat": 4,
 "nbformat_minor": 2
}
